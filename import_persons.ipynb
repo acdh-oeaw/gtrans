{
 "cells": [
  {
   "cell_type": "code",
   "execution_count": null,
   "metadata": {},
   "outputs": [],
   "source": [
    "import pandas as pd\n",
    "from django.core.exceptions import ObjectDoesNotExist, FieldError"
   ]
  },
  {
   "cell_type": "code",
   "execution_count": null,
   "metadata": {},
   "outputs": [],
   "source": [
    "file = \"legacy_data/20180830_Personen.xlsx\""
   ]
  },
  {
   "cell_type": "code",
   "execution_count": null,
   "metadata": {},
   "outputs": [],
   "source": [
    "df = pd.read_excel(file).fillna('False')"
   ]
  },
  {
   "cell_type": "code",
   "execution_count": null,
   "metadata": {},
   "outputs": [],
   "source": [
    "for i, row in df.iterrows():\n",
    "    if row['Name'] != 'False':\n",
    "        item, _ = Person.objects.get_or_create(written_name = row['Name'].strip())\n",
    "        if row['Nachname'] != 'False':\n",
    "            item.name = row['Nachname']\n",
    "        if row['Vorname'] != 'False':\n",
    "            item.forename = row['Vorname']\n",
    "        if row['Titel'] != 'False':\n",
    "            item.acad_title = row['Titel']\n",
    "        if row['Alias'] != 'False':\n",
    "            item.alt_names = row['Alias']\n",
    "        if row['Funktionen'] != 'False':\n",
    "            item.funktion = row['Funktionen']\n",
    "        if row[' Mitgliedschaften'] != 'False':\n",
    "            for x in row[' Mitgliedschaften'].split(';'):\n",
    "                try:\n",
    "                    pl = Institution.objects.get(written_name=x.strip())\n",
    "                except Exception as e:\n",
    "                    pl = None\n",
    "                    print(e, x.strip())\n",
    "                if pl:\n",
    "                    item.belongs_to_institution.add(pl)\n",
    "        if row['Geburtsdatum'] != 'False':\n",
    "            try:\n",
    "                item.date_of_birth = pd.to_datetime(row['Geburtsdatum'])\n",
    "            except Exception as e:\n",
    "                print(e)\n",
    "        if row['Sterbedatum'] != 'False':\n",
    "            try:\n",
    "                item.date_of_death = pd.to_datetime(row['Sterbedatum'])\n",
    "            except Exception as e:\n",
    "                print(e)\n",
    "        if row['Geburtsort'] != 'False':\n",
    "            pl = None\n",
    "            try:\n",
    "                pl = Place.objects.get(name=row['Geburtsort'])\n",
    "            except Exception as e:\n",
    "                print(e, row['Geburtsort'])\n",
    "                pl = None\n",
    "            if pl:\n",
    "                item.place_of_birth = pl\n",
    "        if row['Sterbeort'] != 'False':\n",
    "            pl = None\n",
    "            try:\n",
    "                pl = Place.objects.get(name=row['Sterbeort'])\n",
    "            except Exception as e:\n",
    "                print(e, row['Sterbeort'])\n",
    "                pl = None\n",
    "            if pl:\n",
    "                item.place_of_death = pl\n",
    "        if row['Quelle'] != 'False':\n",
    "            item.quelle = row['Quelle']\n",
    "        if row['Weitere biographische Anmerkungen zur Person'] != 'False':\n",
    "            item.biography = row['Weitere biographische Anmerkungen zur Person']\n",
    "        item.save()"
   ]
  },
  {
   "cell_type": "code",
   "execution_count": null,
   "metadata": {},
   "outputs": [],
   "source": []
  }
 ],
 "metadata": {
  "kernelspec": {
   "display_name": "Django Shell-Plus",
   "language": "python",
   "name": "django_extensions"
  },
  "language_info": {
   "codemirror_mode": {
    "name": "ipython",
    "version": 3
   },
   "file_extension": ".py",
   "mimetype": "text/x-python",
   "name": "python",
   "nbconvert_exporter": "python",
   "pygments_lexer": "ipython3",
   "version": "3.5.4"
  }
 },
 "nbformat": 4,
 "nbformat_minor": 2
}

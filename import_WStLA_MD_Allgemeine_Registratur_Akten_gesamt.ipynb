{
 "cells": [
  {
   "cell_type": "code",
   "execution_count": null,
   "metadata": {},
   "outputs": [],
   "source": [
    "import pandas as pd\n",
    "from django.core.exceptions import ObjectDoesNotExist"
   ]
  },
  {
   "cell_type": "code",
   "execution_count": null,
   "metadata": {},
   "outputs": [],
   "source": [
    "# file = \"legacy_data/WStLA_MD_Allgemeine_Registratur_Akten_gesamt_20180903.xlsx\"\n",
    "file = \"legacy_data/20180901_VGA.xlsx\"\n",
    "res_type_scheme, _ = SkosConceptScheme.objects.get_or_create(dc_title='res_type')\n",
    "archiv, _ = Institution.objects.get_or_create(\n",
    "    written_name='Wiener Stadt- und Landesarchiv',\n",
    "    abbreviation=\"WStLA\",\n",
    "    institution_type=\"Archiv\"\n",
    ")"
   ]
  },
  {
   "cell_type": "code",
   "execution_count": null,
   "metadata": {},
   "outputs": [],
   "source": [
    "df = pd.read_excel(file, dtype={'Datum original': str, 'Karton': str}).fillna('False')"
   ]
  },
  {
   "cell_type": "code",
   "execution_count": null,
   "metadata": {},
   "outputs": [],
   "source": [
    "df"
   ]
  },
  {
   "cell_type": "code",
   "execution_count": null,
   "metadata": {},
   "outputs": [],
   "source": [
    "for i, row in df.iterrows():\n",
    "    item = None\n",
    "    if row['Aktenzahl'] != 'False':\n",
    "        aktenzahl = row['Aktenzahl']\n",
    "    else:\n",
    "        aktenzahl = 'keine'\n",
    "    signatur = \", \".join(\n",
    "        [\n",
    "            \"Bestand {}:\".format(str(row.get('Teil von Bestand', default = \"-\"))), \n",
    "            \"Karton {}\".format(str(row.get('Karton', default='-'))), \n",
    "            \"Aktenzahl {}\".format(aktenzahl),\n",
    "            \"[internal-id]: {}\".format(i)\n",
    "        ]\n",
    "    )\n",
    "    try:\n",
    "        item, _ = ArchResource.objects.get_or_create(\n",
    "            signature=signatur\n",
    "        )\n",
    "    except Exception as e:\n",
    "        print(e)\n",
    "    if item:\n",
    "        if row['Betreff (Titel)'] != 'False':\n",
    "            item.title = row['Betreff (Titel)']\n",
    "        if row['Zusammenfassung'] != 'False':\n",
    "            item.abstract = row['Zusammenfassung']\n",
    "        if row['Kommentar'] != 'False':\n",
    "            item.notes = row['Kommentar']\n",
    "        if row['Datum original '] != 'False':\n",
    "            item.written_date = row['Datum original '].replace('00:00:00', '')\n",
    "        if row['Datum normalisiert DD/MM/YYYY)'] != 'False':\n",
    "            try:\n",
    "                item.not_before = pd.to_datetime(row['Datum normalisiert DD/MM/YYYY)'])\n",
    "            except Exception as e:\n",
    "                print(e)\n",
    "        if row['Datum normalisiert nicht nach(DD/MM/YYYY)'] != 'False':\n",
    "            try:\n",
    "                item.not_after = pd.to_datetime(row['Datum normalisiert nicht nach (DD/MM/YYYY)'])\n",
    "            except Exception as e:\n",
    "                print(e)\n",
    "        if row['Typ'] != 'False':\n",
    "            type_vocab, _ = SkosConcept.objects.get_or_create(\n",
    "                pref_label=\"{}\".format(row['Typ'])\n",
    "            )\n",
    "            type_vocab.scheme.add(res_type_scheme)\n",
    "            item.res_type = type_vocab\n",
    "        if row['Orte'] != 'False':\n",
    "            for x in row['Orte'].split(';'):\n",
    "                try:\n",
    "                    pl = Place.objects.get(name=x.strip())\n",
    "                except Exception as e:\n",
    "                    pl = None\n",
    "                    print(e, x.strip())\n",
    "                if pl:\n",
    "                    item.mentioned_place.add(pl)\n",
    "        if row['Orte'] != 'False':\n",
    "            for x in row['Orte'].split(';'):\n",
    "                try:\n",
    "                    pl = Place.objects.get(name=x.strip())\n",
    "                except Exception as e:\n",
    "                    pl = None\n",
    "                    print(e, x.strip())\n",
    "                if pl:\n",
    "                    item.mentioned_place.add(pl)\n",
    "        if row['Institutionen'] != 'False':\n",
    "            for x in row['Institutionen'].split(';'):\n",
    "                try:\n",
    "                    pl = Institution.objects.get(written_name=x.strip())\n",
    "                except Exception as e:\n",
    "                    pl = None\n",
    "                    print(e, x.strip())\n",
    "                if pl:\n",
    "                    item.mentioned_inst.add(pl)\n",
    "        if row['Personen'] != 'False':\n",
    "            for x in row['Personen'].split(';'):\n",
    "                try:\n",
    "                    pl = Person.objects.get(written_name=x.strip())\n",
    "                except Exception as e:\n",
    "                    pl = None\n",
    "                    print(e, x.strip())\n",
    "                if pl:\n",
    "                    item.mentioned_person.add(pl)\n",
    "        item.archiv = archiv\n",
    "        item.save()"
   ]
  },
  {
   "cell_type": "code",
   "execution_count": null,
   "metadata": {},
   "outputs": [],
   "source": [
    "# RepoLocation.objects.all().delete()"
   ]
  },
  {
   "cell_type": "code",
   "execution_count": null,
   "metadata": {},
   "outputs": [],
   "source": []
  }
 ],
 "metadata": {
  "kernelspec": {
   "display_name": "Django Shell-Plus",
   "language": "python",
   "name": "django_extensions"
  },
  "language_info": {
   "codemirror_mode": {
    "name": "ipython",
    "version": 3
   },
   "file_extension": ".py",
   "mimetype": "text/x-python",
   "name": "python",
   "nbconvert_exporter": "python",
   "pygments_lexer": "ipython3",
   "version": "3.5.4"
  }
 },
 "nbformat": 4,
 "nbformat_minor": 2
}

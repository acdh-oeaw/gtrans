{
 "cells": [
  {
   "cell_type": "code",
   "execution_count": null,
   "metadata": {},
   "outputs": [],
   "source": [
    "import pandas as pd"
   ]
  },
  {
   "cell_type": "code",
   "execution_count": null,
   "metadata": {},
   "outputs": [],
   "source": [
    "file = \"legacy_data/2018_09_05_SW_Zusammenfuehrung FINAL.xls\"\n",
    "temp_scheme, _ = SkosConceptScheme.objects.get_or_create(\n",
    "    dc_title='schlagwort'\n",
    ")"
   ]
  },
  {
   "cell_type": "code",
   "execution_count": null,
   "metadata": {},
   "outputs": [],
   "source": [
    "df = pd.read_excel(file).fillna('False')"
   ]
  },
  {
   "cell_type": "code",
   "execution_count": null,
   "metadata": {},
   "outputs": [],
   "source": [
    "df.head()"
   ]
  },
  {
   "cell_type": "code",
   "execution_count": null,
   "metadata": {},
   "outputs": [],
   "source": [
    "concepts = []\n",
    "for i, row in df.iterrows():\n",
    "    if row[0] != 'False':\n",
    "        related_concepts = []\n",
    "        for x in range(0, 3):\n",
    "            pref_labels = []\n",
    "            alt_labels = []\n",
    "            pref_labels = row[x].split(';')\n",
    "            pref_label = pref_labels[0].strip()\n",
    "            concept, _ = SkosConcept.objects.get_or_create(pref_label=pref_label)\n",
    "            related_concepts.append(concept)\n",
    "            concept.scheme.set([temp_scheme])\n",
    "            if len(pref_labels) > 1:\n",
    "                for y in pref_labels[1:]:\n",
    "                    label_name = y.strip()\n",
    "                    label, _ = SkosLabel.objects.get_or_create(\n",
    "                        label=y.strip(),\n",
    "                        label_type='altLabel',\n",
    "                        isoCode='ger'\n",
    "                    )\n",
    "                    alt_labels.append(label)\n",
    "            if alt_labels:\n",
    "                concept.other_label.set(alt_labels)\n",
    "        concepts.append(related_concepts)"
   ]
  },
  {
   "cell_type": "code",
   "execution_count": null,
   "metadata": {},
   "outputs": [],
   "source": [
    "for row in concepts:\n",
    "    x = 0\n",
    "    broader = None\n",
    "    narrower = None\n",
    "    while x != len(row):\n",
    "        broader = row[x]\n",
    "        try:\n",
    "            narrower = row[x+1]\n",
    "        except:\n",
    "            narrower = False\n",
    "        if narrower:\n",
    "            narrower.broader_concept = broader\n",
    "            narrower.save()\n",
    "        x +=1"
   ]
  }
 ],
 "metadata": {
  "kernelspec": {
   "display_name": "Django Shell-Plus",
   "language": "python",
   "name": "django_extensions"
  },
  "language_info": {
   "codemirror_mode": {
    "name": "ipython",
    "version": 3
   },
   "file_extension": ".py",
   "mimetype": "text/x-python",
   "name": "python",
   "nbconvert_exporter": "python",
   "pygments_lexer": "ipython3",
   "version": "3.5.4"
  }
 },
 "nbformat": 4,
 "nbformat_minor": 2
}

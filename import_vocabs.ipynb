{
 "cells": [
  {
   "cell_type": "code",
   "execution_count": 2,
   "metadata": {},
   "outputs": [],
   "source": [
    "import pandas as pd"
   ]
  },
  {
   "cell_type": "code",
   "execution_count": 3,
   "metadata": {},
   "outputs": [],
   "source": [
    "file = \"legacy_data/2018_09_05_SW_Zusammenfuehrung FINAL.xls\"\n",
    "temp_scheme, _ = SkosConceptScheme.objects.get_or_create(\n",
    "    dc_title='schlagwort'\n",
    ")"
   ]
  },
  {
   "cell_type": "code",
   "execution_count": 4,
   "metadata": {},
   "outputs": [],
   "source": [
    "df = pd.read_excel(file).fillna('False')"
   ]
  },
  {
   "cell_type": "code",
   "execution_count": 5,
   "metadata": {},
   "outputs": [
    {
     "data": {
      "text/html": [
       "<div>\n",
       "<style scoped>\n",
       "    .dataframe tbody tr th:only-of-type {\n",
       "        vertical-align: middle;\n",
       "    }\n",
       "\n",
       "    .dataframe tbody tr th {\n",
       "        vertical-align: top;\n",
       "    }\n",
       "\n",
       "    .dataframe thead th {\n",
       "        text-align: right;\n",
       "    }\n",
       "</style>\n",
       "<table border=\"1\" class=\"dataframe\">\n",
       "  <thead>\n",
       "    <tr style=\"text-align: right;\">\n",
       "      <th></th>\n",
       "      <th>1. Ebene</th>\n",
       "      <th>2. Ebene</th>\n",
       "      <th>3. Ebene (Einzel-SW)</th>\n",
       "      <th>Nicht aktiv verwendete Alternativbegriffe aus den Quellen \"Wiener Gruppe\"  (Suchbarkeit vorhanden)</th>\n",
       "      <th>Nicht aktiv verwendete Alternativbegriffe aus den Quellen \"Bund\" werden hier nicht aufgelistet (Volltext-Suchbarkeit vorhanden)</th>\n",
       "    </tr>\n",
       "  </thead>\n",
       "  <tbody>\n",
       "    <tr>\n",
       "      <th>0</th>\n",
       "      <td>Organisation</td>\n",
       "      <td>Arbeitsstätten</td>\n",
       "      <td>Anstalten (öffentliche)</td>\n",
       "      <td>False</td>\n",
       "      <td>False</td>\n",
       "    </tr>\n",
       "    <tr>\n",
       "      <th>1</th>\n",
       "      <td>Organisation</td>\n",
       "      <td>Arbeitsstätten</td>\n",
       "      <td>Betriebe (städtische)</td>\n",
       "      <td>False</td>\n",
       "      <td>False</td>\n",
       "    </tr>\n",
       "    <tr>\n",
       "      <th>2</th>\n",
       "      <td>Organisation</td>\n",
       "      <td>Arbeitsstätten</td>\n",
       "      <td>Dienstort; Amtssitz</td>\n",
       "      <td>False</td>\n",
       "      <td>False</td>\n",
       "    </tr>\n",
       "    <tr>\n",
       "      <th>3</th>\n",
       "      <td>Organisation</td>\n",
       "      <td>Arbeitsstätten</td>\n",
       "      <td>Dienstraum</td>\n",
       "      <td>False</td>\n",
       "      <td>False</td>\n",
       "    </tr>\n",
       "    <tr>\n",
       "      <th>4</th>\n",
       "      <td>Organisation</td>\n",
       "      <td>Arbeitsstätten</td>\n",
       "      <td>Dienstvermittlungsamt (städtisches)</td>\n",
       "      <td>False</td>\n",
       "      <td>False</td>\n",
       "    </tr>\n",
       "  </tbody>\n",
       "</table>\n",
       "</div>"
      ],
      "text/plain": [
       "       1. Ebene        2. Ebene               3. Ebene (Einzel-SW)    \\\n",
       "0  Organisation  Arbeitsstätten              Anstalten (öffentliche)   \n",
       "1  Organisation  Arbeitsstätten                Betriebe (städtische)   \n",
       "2  Organisation  Arbeitsstätten                  Dienstort; Amtssitz   \n",
       "3  Organisation  Arbeitsstätten                           Dienstraum   \n",
       "4  Organisation  Arbeitsstätten  Dienstvermittlungsamt (städtisches)   \n",
       "\n",
       "  Nicht aktiv verwendete Alternativbegriffe aus den Quellen \"Wiener Gruppe\"  (Suchbarkeit vorhanden)  \\\n",
       "0                                              False                                                   \n",
       "1                                              False                                                   \n",
       "2                                              False                                                   \n",
       "3                                              False                                                   \n",
       "4                                              False                                                   \n",
       "\n",
       "  Nicht aktiv verwendete Alternativbegriffe aus den Quellen \"Bund\" werden hier nicht aufgelistet (Volltext-Suchbarkeit vorhanden)  \n",
       "0                                              False                                                                               \n",
       "1                                              False                                                                               \n",
       "2                                              False                                                                               \n",
       "3                                              False                                                                               \n",
       "4                                              False                                                                               "
      ]
     },
     "execution_count": 5,
     "metadata": {},
     "output_type": "execute_result"
    }
   ],
   "source": [
    "df.head()"
   ]
  },
  {
   "cell_type": "code",
   "execution_count": 6,
   "metadata": {},
   "outputs": [],
   "source": [
    "concepts = []\n",
    "for i, row in df.iterrows():\n",
    "    if row[0] != 'False':\n",
    "        related_concepts = []\n",
    "        for x in range(0, 3):\n",
    "            pref_labels = []\n",
    "            alt_labels = []\n",
    "            pref_labels = row[x].split(';')\n",
    "            pref_label = pref_labels[0].strip()\n",
    "            concept, _ = SkosConcept.objects.get_or_create(pref_label=pref_label)\n",
    "            related_concepts.append(concept)\n",
    "            concept.scheme.set([temp_scheme])\n",
    "            if len(pref_labels) > 1:\n",
    "                for y in pref_labels[1:]:\n",
    "                    label_name = y.strip()\n",
    "                    label, _ = SkosLabel.objects.get_or_create(\n",
    "                        label=y.strip(),\n",
    "                        label_type='altLabel',\n",
    "                        isoCode='ger'\n",
    "                    )\n",
    "                    alt_labels.append(label)\n",
    "            if alt_labels:\n",
    "                concept.other_label.set(alt_labels)\n",
    "        concepts.append(related_concepts)"
   ]
  },
  {
   "cell_type": "code",
   "execution_count": null,
   "metadata": {},
   "outputs": [],
   "source": [
    "for row in concepts:\n",
    "    x = 0\n",
    "    broader = None\n",
    "    narrower = None\n",
    "    while x != len(row):\n",
    "        broader = row[x]\n",
    "        try:\n",
    "            narrower = row[x+1]\n",
    "        except:\n",
    "            narrower = False\n",
    "        if narrower:\n",
    "            narrower.broader_concept = broader\n",
    "            narrower.save()\n",
    "        x +=1"
   ]
  },
  {
   "cell_type": "code",
   "execution_count": 1,
   "metadata": {},
   "outputs": [
    {
     "data": {
      "text/plain": [
       "(282, {'vocabs.SkosConcept_other_label': 143, 'vocabs.SkosLabel': 139})"
      ]
     },
     "execution_count": 1,
     "metadata": {},
     "output_type": "execute_result"
    }
   ],
   "source": [
    "SkosLabel.objects.all().delete()"
   ]
  },
  {
   "cell_type": "code",
   "execution_count": null,
   "metadata": {},
   "outputs": [],
   "source": []
  }
 ],
 "metadata": {
  "kernelspec": {
   "display_name": "Django Shell-Plus",
   "language": "python",
   "name": "django_extensions"
  },
  "language_info": {
   "codemirror_mode": {
    "name": "ipython",
    "version": 3
   },
   "file_extension": ".py",
   "mimetype": "text/x-python",
   "name": "python",
   "nbconvert_exporter": "python",
   "pygments_lexer": "ipython3",
   "version": "3.5.4"
  }
 },
 "nbformat": 4,
 "nbformat_minor": 2
}

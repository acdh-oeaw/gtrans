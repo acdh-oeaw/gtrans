{
 "cells": [
  {
   "cell_type": "code",
   "execution_count": null,
   "metadata": {},
   "outputs": [],
   "source": [
    "import pandas as pd\n",
    "from archiv.utils import create_bestand"
   ]
  },
  {
   "cell_type": "code",
   "execution_count": null,
   "metadata": {},
   "outputs": [],
   "source": [
    "file = 'legacy_data/Verhandlungsschriften_neu.xlsx'\n",
    "res_type_scheme, _ = SkosConceptScheme.objects.get_or_create(dc_title='res_type')\n",
    "df = pd.read_excel(file).fillna('False')\n",
    "df['Teil von Bestand'] = df[['Archiv', 'Bestand']].apply(lambda x: '; '.join(x), axis=1)\n",
    "df['abstract'] = df[['Anfrage', 'Antwort der Kommission']].apply(lambda x: ' ANTWORT DER KOMMISSION: '.join(x), axis=1)"
   ]
  },
  {
   "cell_type": "code",
   "execution_count": null,
   "metadata": {},
   "outputs": [],
   "source": [
    "df"
   ]
  },
  {
   "cell_type": "code",
   "execution_count": null,
   "metadata": {},
   "outputs": [],
   "source": [
    "for i, row in df.iterrows():\n",
    "    signatur = \"|\".join(\n",
    "            [\n",
    "                str(row.get('Archiv', default=\"Archiv\")),\n",
    "                str(row.get('Bestand', default=\"Bestand\")),\n",
    "                str(row.get('Nummer', default=\"Nummer\")), \n",
    "                str(row.get('Unterpunkt', default=\"Unterpunkt\")),\n",
    "                str(row.get('Seite', default=\"Seite\")), \n",
    "            ]\n",
    "        )\n",
    "    if row['Teil von Bestand'] != 'False':\n",
    "        item, _ = ArchResource.objects.get_or_create(\n",
    "            signature=signatur\n",
    "        )\n",
    "        try:\n",
    "            bestand = create_bestand(row['Teil von Bestand'], split=\";\")[-1]\n",
    "            item.location = bestand\n",
    "        except Exception as e:\n",
    "            print(e)\n",
    "        if row['Anfrage'] != 'False':\n",
    "            item.title = row['Anfrage'][:150]\n",
    "        if row['abstract'] != 'False':\n",
    "            item.abstract = row['Anfrage'][:150]\n",
    "        if row['Start Date'] != 'False':\n",
    "            try:\n",
    "                item.not_before = pd.to_datetime(row['Start Date'])\n",
    "            except Exception as e:\n",
    "                print(e)\n",
    "        if row['Ort'] != 'False':\n",
    "            for x in row['Ort'].split(';'):\n",
    "                try:\n",
    "                    pl = Place.objects.get(name=x.strip())\n",
    "                except Exception as e:\n",
    "                    pl = None\n",
    "                    print(e, x.strip())\n",
    "                if pl:\n",
    "                    item.mentioned_place.add(pl)\n",
    "        if row['Institution'] != 'False':\n",
    "            for x in row['Institution'].split(';'):\n",
    "                try:\n",
    "                    pl = Institution.objects.get(written_name=x.strip())\n",
    "                except Exception as e:\n",
    "                    pl = None\n",
    "                    print(e, x.strip())\n",
    "                if pl:\n",
    "                    item.mentioned_inst.add(pl)\n",
    "        if row['Person'] != 'False':\n",
    "            for x in row['Person'].split(';'):\n",
    "                try:\n",
    "                    pl = Person.objects.get(written_name=x.strip())\n",
    "                except Exception as e:\n",
    "                    pl = None\n",
    "                    print(e, x.strip())\n",
    "                if pl:\n",
    "                    item.mentioned_person.add(pl)\n",
    "    item.save()\n",
    "            \n",
    "        "
   ]
  },
  {
   "cell_type": "code",
   "execution_count": null,
   "metadata": {},
   "outputs": [],
   "source": [
    "ArchResource.objects.filter(signature__startswith='ÖStA/AdR|Staatskanzlei').delete()"
   ]
  },
  {
   "cell_type": "code",
   "execution_count": null,
   "metadata": {},
   "outputs": [],
   "source": []
  }
 ],
 "metadata": {
  "kernelspec": {
   "display_name": "Django Shell-Plus",
   "language": "python",
   "name": "django_extensions"
  },
  "language_info": {
   "codemirror_mode": {
    "name": "ipython",
    "version": 3
   },
   "file_extension": ".py",
   "mimetype": "text/x-python",
   "name": "python",
   "nbconvert_exporter": "python",
   "pygments_lexer": "ipython3",
   "version": "3.5.4"
  }
 },
 "nbformat": 4,
 "nbformat_minor": 2
}

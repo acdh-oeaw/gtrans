{
 "cells": [
  {
   "cell_type": "code",
   "execution_count": null,
   "metadata": {},
   "outputs": [],
   "source": [
    "import pandas as pd\n",
    "import itertools"
   ]
  },
  {
   "cell_type": "code",
   "execution_count": null,
   "metadata": {},
   "outputs": [],
   "source": [
    "file = 'legacy_data/Verhandlungsschriften_neu.xlsx'\n",
    "res_type_scheme, _ = SkosConceptScheme.objects.get_or_create(dc_title='res_type')\n",
    "df = pd.read_excel(file, dtype={'Nummer': str}).fillna('False')\n",
    "df['Teil von Bestand'] = df[['Archiv', 'Bestand']].apply(lambda x: '; '.join(x), axis=1)\n",
    "df['abstract'] = df[['Anfrage', 'Antwort der Kommission']].apply(lambda x: ' ANTWORT DER KOMMISSION: '.join(x), axis=1)"
   ]
  },
  {
   "cell_type": "code",
   "execution_count": null,
   "metadata": {},
   "outputs": [],
   "source": [
    "archiv, _ = Institution.objects.get_or_create(\n",
    "    written_name='Österreichisches Staatsarchiv / Archiv der Republik',\n",
    "    abbreviation=\"ÖStA/AdR\",\n",
    "    institution_type=\"Archiv\"\n",
    ")\n",
    "res_type_scheme, _ = SkosConceptScheme.objects.get_or_create(dc_title='res_type')\n",
    "res_type, _ = SkosConcept.objects.get_or_create(pref_label='Verhandlungsschrift')\n",
    "res_type.scheme.add(res_type_scheme)"
   ]
  },
  {
   "cell_type": "code",
   "execution_count": null,
   "metadata": {},
   "outputs": [],
   "source": [
    "df"
   ]
  },
  {
   "cell_type": "code",
   "execution_count": null,
   "metadata": {},
   "outputs": [],
   "source": [
    "for i, row in df.iterrows():\n",
    "    item = None\n",
    "    signatur = \",\".join(\n",
    "            [\n",
    "                \"Bestand: {}\".format(str(row.get('Bestand', default=\"\"))),\n",
    "                \"Nr: {}\".format(str(row.get('Nummer', default=\"-\"))), \n",
    "                \"Unterpunkt: {}\".format(str(row.get('Unterpunkt', default=\"\"))),\n",
    "                \"Seite: {}\".format(str(row.get('Seite', default=\"\"))),\n",
    "                \"[internal-id]: {}\".format(i)\n",
    "            ]\n",
    "        )\n",
    "    try:\n",
    "        item, _ = ArchResource.objects.get_or_create(\n",
    "            signature=signatur\n",
    "        )\n",
    "    except Exception as e:\n",
    "        print(e)\n",
    "    if item:\n",
    "        if row['Schlagwort neu'] != 'False':\n",
    "            slw = row['Schlagwort neu'].split(';')\n",
    "            concepts = []\n",
    "            for y in slw:\n",
    "                concepts.append(list(SkosConcept.objects.filter(pref_label=y.strip())))\n",
    "                concepts.append(list(SkosConcept.objects.filter(other_label__label=y.strip())))\n",
    "            if concepts:\n",
    "                item.subject_norm.set(list(itertools.chain.from_iterable(concepts)))\n",
    "        if row['Anfrage'] != 'False':\n",
    "            item.title = row['Anfrage'][:150]\n",
    "        if row['abstract'] != 'False':\n",
    "            item.abstract = row['abstract']\n",
    "        if row['Start Date'] != 'False':\n",
    "            try:\n",
    "                item.not_before = pd.to_datetime(row['Start Date'])\n",
    "            except Exception as e:\n",
    "                print(e)\n",
    "        if row['Ort'] != 'False':\n",
    "            for x in row['Ort'].split(';'):\n",
    "                try:\n",
    "                    pl = Place.objects.get(name=x.strip())\n",
    "                except Exception as e:\n",
    "                    pl = None\n",
    "                    try:\n",
    "                        other_name = x.strip().split('(')[0]\n",
    "                        pl = Place.objects.get(name=other_name)\n",
    "                    except:\n",
    "                        pl = None\n",
    "                        print(e, x.strip())\n",
    "                if pl:\n",
    "                    item.mentioned_place.add(pl)\n",
    "        if row['Institution'] != 'False':\n",
    "            for x in row['Institution'].split(';'):\n",
    "                try:\n",
    "                    pl = Institution.objects.get(written_name=x.strip())\n",
    "                except Exception as e:\n",
    "                    pl = None\n",
    "                    print(e, x.strip())\n",
    "                if pl:\n",
    "                    item.mentioned_inst.add(pl)\n",
    "        if row['Person'] != 'False':\n",
    "            for x in row['Person'].split(';'):\n",
    "                try:\n",
    "                    pl = Person.objects.get(written_name=x.strip())\n",
    "                except Exception as e:\n",
    "                    pl = None\n",
    "                    print(e, x.strip())\n",
    "                if pl:\n",
    "                    item.mentioned_person.add(pl)\n",
    "        item.archiv = archiv\n",
    "        item.res_type = res_type\n",
    "        item.save()\n",
    "            \n",
    "        "
   ]
  },
  {
   "cell_type": "code",
   "execution_count": null,
   "metadata": {},
   "outputs": [],
   "source": []
  }
 ],
 "metadata": {
  "kernelspec": {
   "display_name": "Django Shell-Plus",
   "language": "python",
   "name": "django_extensions"
  },
  "language_info": {
   "codemirror_mode": {
    "name": "ipython",
    "version": 3
   },
   "file_extension": ".py",
   "mimetype": "text/x-python",
   "name": "python",
   "nbconvert_exporter": "python",
   "pygments_lexer": "ipython3",
   "version": "3.5.4"
  }
 },
 "nbformat": 4,
 "nbformat_minor": 2
}

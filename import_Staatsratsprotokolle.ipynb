{
 "cells": [
  {
   "cell_type": "code",
   "execution_count": null,
   "metadata": {},
   "outputs": [],
   "source": [
    "import pandas as pd\n",
    "from archiv.utils import create_bestand"
   ]
  },
  {
   "cell_type": "code",
   "execution_count": null,
   "metadata": {},
   "outputs": [],
   "source": [
    "file = 'legacy_data/20180810 Erfassung Staatsratsprotokolle foto (1).xlsx'\n",
    "res_type_scheme, _ = SkosConceptScheme.objects.get_or_create(dc_title='res_type')\n",
    "df = pd.read_excel(file).fillna('False')"
   ]
  },
  {
   "cell_type": "code",
   "execution_count": null,
   "metadata": {},
   "outputs": [],
   "source": [
    "df"
   ]
  },
  {
   "cell_type": "code",
   "execution_count": null,
   "metadata": {},
   "outputs": [],
   "source": [
    "for i, row in df.iterrows():\n",
    "    if row['(Archiv)Signatur'] != 'False':\n",
    "        signatur = \"|\".join(\n",
    "            [\n",
    "                str(row.get('(Archiv)Signatur', default=\"Signatur\")),\n",
    "                str(row.get('Karton', default=\"Karton\")), \n",
    "            ]\n",
    "        )\n",
    "        if row['Teil von Bestand'] != 'False':\n",
    "            item, _ = ArchResource.objects.get_or_create(\n",
    "                signature=signatur\n",
    "            )\n",
    "\n",
    "            try:\n",
    "                bestand = create_bestand(row['Teil von Bestand'])[-1]\n",
    "                item.location = bestand\n",
    "            except Exception as e:\n",
    "                print(e)            \n",
    "            if row['Betreff - Titel des Dokuments'] != 'False':\n",
    "                item.title = row['Betreff - Titel des Dokuments']\n",
    "            if row['Zusammenfassung'] != 'False':\n",
    "                item.abstract = row['Zusammenfassung']\n",
    "            if row['Kommentar'] != 'False':\n",
    "                item.notes = row['Kommentar']\n",
    "            if row['Datum orig'] != 'False':\n",
    "                item.written_date = row['Datum orig']\n",
    "            if row['Typ des Dokuments'] != 'False':\n",
    "                type_vocab, _ = SkosConcept.objects.get_or_create(\n",
    "                    pref_label=\"{}\".format(row['Typ des Dokuments'])\n",
    "                )\n",
    "                type_vocab.scheme.add(res_type_scheme)\n",
    "                item.res_type = type_vocab\n",
    "            if row['Datum normalisiert'] != 'False':\n",
    "                try:\n",
    "                    item.not_before = pd.to_datetime(row['Datum normalisiert'])\n",
    "                except Exception as e:\n",
    "                    print(e)\n",
    "            if row['Im Dokument vorkommende Orte'] != 'False':\n",
    "                for x in row['Im Dokument vorkommende Orte'].split(';'):\n",
    "                    try:\n",
    "                        pl = Place.objects.get(name=x.strip())\n",
    "                    except Exception as e:\n",
    "                        pl = None\n",
    "                        print(e, x.strip())\n",
    "                    if pl:\n",
    "                        item.mentioned_place.add(pl)\n",
    "            if row['Im Dokument erwähnte Institution'] != 'False':\n",
    "                for x in row['Im Dokument erwähnte Institution'].split(';'):\n",
    "                    try:\n",
    "                        pl = Institution.objects.get(written_name=x.strip())\n",
    "                    except Exception as e:\n",
    "                        pl = None\n",
    "                        print(e, x.strip())\n",
    "                    if pl:\n",
    "                        item.mentioned_inst.add(pl)\n",
    "            if row['Im Dokument erwähnte Person'] != 'False':\n",
    "                for x in row['Im Dokument erwähnte Person'].split(';'):\n",
    "                    try:\n",
    "                        pl = Person.objects.get(written_name=x.strip())\n",
    "                    except Exception as e:\n",
    "                        pl = None\n",
    "                        print(e, x.strip())\n",
    "                    if pl:\n",
    "                        item.mentioned_person.add(pl)\n",
    "            if row['Erzeuger des Dokuments (Institution)'] != 'False':\n",
    "                for x in row['Erzeuger des Dokuments (Institution)'].split(';'):\n",
    "                    try:\n",
    "                        pl = Institution.objects.get(written_name=x.strip())\n",
    "                    except Exception as e:\n",
    "                        pl = None\n",
    "                        print(e, x.strip())\n",
    "                    if pl:\n",
    "                        item.creator_inst.add(pl)\n",
    "            \n",
    "            item.save()"
   ]
  },
  {
   "cell_type": "code",
   "execution_count": null,
   "metadata": {},
   "outputs": [],
   "source": []
  }
 ],
 "metadata": {
  "kernelspec": {
   "display_name": "Django Shell-Plus",
   "language": "python",
   "name": "django_extensions"
  },
  "language_info": {
   "codemirror_mode": {
    "name": "ipython",
    "version": 3
   },
   "file_extension": ".py",
   "mimetype": "text/x-python",
   "name": "python",
   "nbconvert_exporter": "python",
   "pygments_lexer": "ipython3",
   "version": "3.5.4"
  }
 },
 "nbformat": 4,
 "nbformat_minor": 2
}

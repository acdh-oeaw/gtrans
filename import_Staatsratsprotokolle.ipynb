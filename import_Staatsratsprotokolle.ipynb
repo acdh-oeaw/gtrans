{
 "cells": [
  {
   "cell_type": "code",
   "execution_count": null,
   "metadata": {},
   "outputs": [],
   "source": [
    "import pandas as pd"
   ]
  },
  {
   "cell_type": "code",
   "execution_count": null,
   "metadata": {},
   "outputs": [],
   "source": [
    "file = 'legacy_data/20180810 Erfassung Staatsratsprotokolle foto (1).xlsx'\n",
    "res_type_scheme, _ = SkosConceptScheme.objects.get_or_create(dc_title='res_type')\n",
    "df = pd.read_excel(file, dtype={'Karton': str}).fillna('False')\n",
    "archiv, _ = Institution.objects.get_or_create(\n",
    "    written_name='Österreichisches Staatsarchiv / Archiv der Republik',\n",
    "    abbreviation=\"ÖStA/AdR\",\n",
    "    institution_type=\"Archiv\"\n",
    ")"
   ]
  },
  {
   "cell_type": "code",
   "execution_count": null,
   "metadata": {},
   "outputs": [],
   "source": [
    "df"
   ]
  },
  {
   "cell_type": "code",
   "execution_count": null,
   "metadata": {},
   "outputs": [],
   "source": [
    "for i, row in df.iterrows():\n",
    "    item = None\n",
    "    signatur = \",\".join(\n",
    "            [\n",
    "                \"Bestand: {}\".format(format(str(row.get('(Archiv)Signatur', default=\"-\")))),\n",
    "                \"Karton: {}\".format(str(row.get('Karton', default=\"-\"))), \n",
    "                \"[internal-id]: {}\".format(i)\n",
    "            ]\n",
    "    )\n",
    "    try:\n",
    "        item, _ = ArchResource.objects.get_or_create(\n",
    "            signature=signatur\n",
    "        )\n",
    "    except Exception as e:\n",
    "        print(e)\n",
    "    if item:           \n",
    "        if row['Betreff - Titel des Dokuments'] != 'False':\n",
    "            item.title = row['Betreff - Titel des Dokuments']\n",
    "        if row['Zusammenfassung'] != 'False':\n",
    "            item.abstract = row['Zusammenfassung']\n",
    "        if row['Kommentar'] != 'False':\n",
    "            item.notes = row['Kommentar']\n",
    "        if row['Datum orig'] != 'False':\n",
    "            item.written_date = row['Datum orig']\n",
    "        if row['Typ des Dokuments'] != 'False':\n",
    "            type_vocab, _ = SkosConcept.objects.get_or_create(\n",
    "                pref_label=\"{}\".format(row['Typ des Dokuments'])\n",
    "            )\n",
    "            type_vocab.scheme.add(res_type_scheme)\n",
    "            item.res_type = type_vocab\n",
    "        if row['Datum normalisiert'] != 'False':\n",
    "            try:\n",
    "                item.not_before = pd.to_datetime(row['Datum normalisiert'])\n",
    "            except Exception as e:\n",
    "                print(e)\n",
    "        if row['Im Dokument vorkommende Orte'] != 'False':\n",
    "            for x in row['Im Dokument vorkommende Orte'].split(';'):\n",
    "                try:\n",
    "                    pl = Place.objects.get(name=x.strip())\n",
    "                except Exception as e:\n",
    "                    pl = None\n",
    "                    try:\n",
    "                        other_name = x.strip().split('(')[0]\n",
    "                        pl = Place.objects.get(name=other_name)\n",
    "                    except:\n",
    "                        pl = None\n",
    "                        print(e, x.strip())\n",
    "                if pl:\n",
    "                    item.mentioned_place.add(pl)\n",
    "        if row['Im Dokument erwähnte Institution'] != 'False':\n",
    "            for x in row['Im Dokument erwähnte Institution'].split(';'):\n",
    "                try:\n",
    "                    pl = Institution.objects.get(written_name=x.strip())\n",
    "                except Exception as e:\n",
    "                    pl = None\n",
    "                    print(e, x.strip())\n",
    "                if pl:\n",
    "                    item.mentioned_inst.add(pl)\n",
    "        if row['Im Dokument erwähnte Person'] != 'False':\n",
    "            for x in row['Im Dokument erwähnte Person'].split(';'):\n",
    "                try:\n",
    "                    pl = Person.objects.get(written_name=x.strip())\n",
    "                except Exception as e:\n",
    "                    pl = None\n",
    "                    print(e, x.strip())\n",
    "                if pl:\n",
    "                    item.mentioned_person.add(pl)\n",
    "        if row['Erzeuger des Dokuments (Institution)'] != 'False':\n",
    "            for x in row['Erzeuger des Dokuments (Institution)'].split(';'):\n",
    "                try:\n",
    "                    pl = Institution.objects.get(written_name=x.strip())\n",
    "                except Exception as e:\n",
    "                    pl = None\n",
    "                    print(e, x.strip())\n",
    "                if pl:\n",
    "                    item.creator_inst.add(pl)\n",
    "            item.archiv = archiv\n",
    "            item.save()"
   ]
  },
  {
   "cell_type": "code",
   "execution_count": null,
   "metadata": {},
   "outputs": [],
   "source": []
  }
 ],
 "metadata": {
  "kernelspec": {
   "display_name": "Django Shell-Plus",
   "language": "python",
   "name": "django_extensions"
  },
  "language_info": {
   "codemirror_mode": {
    "name": "ipython",
    "version": 3
   },
   "file_extension": ".py",
   "mimetype": "text/x-python",
   "name": "python",
   "nbconvert_exporter": "python",
   "pygments_lexer": "ipython3",
   "version": "3.5.4"
  }
 },
 "nbformat": 4,
 "nbformat_minor": 2
}

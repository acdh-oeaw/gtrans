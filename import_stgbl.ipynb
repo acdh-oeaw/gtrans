{
 "cells": [
  {
   "cell_type": "code",
   "execution_count": null,
   "metadata": {},
   "outputs": [],
   "source": [
    "import pandas as pd\n",
    "import itertools"
   ]
  },
  {
   "cell_type": "code",
   "execution_count": null,
   "metadata": {},
   "outputs": [],
   "source": [
    "file = 'legacy_data/20180925_StGBl fertig.xlsx'\n",
    "res_type_scheme, _ = SkosConceptScheme.objects.get_or_create(dc_title='res_type')\n",
    "df = pd.read_excel(file).fillna('False')\n",
    "archiv, _ = Institution.objects.get_or_create(\n",
    "    written_name='Österreichische Nationalbibliothek',\n",
    "    abbreviation=\"ÖNB\",\n",
    "    institution_type=\"Archiv\"\n",
    ")"
   ]
  },
  {
   "cell_type": "code",
   "execution_count": null,
   "metadata": {
    "scrolled": true
   },
   "outputs": [],
   "source": [
    "for i, row in df.iterrows():\n",
    "    item = None\n",
    "    signatur = \", \".join(\n",
    "            [\n",
    "                \"Bestand: {}\".format(row['Teil von Bestand']),\n",
    "                \"Signatur: {}\".format(row['(Archiv)Signatur'])\n",
    "            ]\n",
    "    )\n",
    "    try:\n",
    "        item, _ = ArchResource.objects.get_or_create(\n",
    "            signature=signatur\n",
    "        )\n",
    "    except Exception as e:\n",
    "        print(e)\n",
    "    if item:\n",
    "        print(signatur)\n",
    "        if row['Schlagwörter normalisiert'] != 'False':\n",
    "            slw = row['Schlagwörter normalisiert'].split(';')\n",
    "            concepts = []\n",
    "            for y in slw:\n",
    "                concepts.append(list(SkosConcept.objects.filter(pref_label=y.strip())))\n",
    "                concepts.append(list(SkosConcept.objects.filter(other_label__label=y.strip())))\n",
    "            if concepts:\n",
    "                item.subject_norm.set(list(itertools.chain.from_iterable(concepts)))\n",
    "        if row['Titel der Rechtsnorm'] != 'False':\n",
    "            item.title = row['Titel der Rechtsnorm']\n",
    "        if row['Zusammenfassung'] != 'False':\n",
    "            item.abstract = row['Zusammenfassung']\n",
    "        if row['Anmerkungen'] != 'False':\n",
    "            item.permalink = row['Anmerkungen']\n",
    "        if row['Datum orig'] != 'False':\n",
    "            item.written_date = row['Datum orig']\n",
    "        if row['Typ des Dok'] != 'False':\n",
    "            type_vocab, _ = SkosConcept.objects.get_or_create(\n",
    "                pref_label=\"{}\".format(row['Typ des Dok'])\n",
    "            )\n",
    "            type_vocab.scheme.add(res_type_scheme)\n",
    "            item.res_type = type_vocab\n",
    "        if row['Datum normalisiert DD/MM/YYYY)\\n'] != 'False':\n",
    "            try:\n",
    "                item.not_before = pd.to_datetime(row['Datum normalisiert DD/MM/YYYY)\\n'])\n",
    "            except Exception as e:\n",
    "                print(e)\n",
    "        item.archiv = archiv\n",
    "        item.save()"
   ]
  },
  {
   "cell_type": "code",
   "execution_count": null,
   "metadata": {},
   "outputs": [],
   "source": []
  }
 ],
 "metadata": {
  "kernelspec": {
   "display_name": "Django Shell-Plus",
   "language": "python",
   "name": "django_extensions"
  },
  "language_info": {
   "codemirror_mode": {
    "name": "ipython",
    "version": 3
   },
   "file_extension": ".py",
   "mimetype": "text/x-python",
   "name": "python",
   "nbconvert_exporter": "python",
   "pygments_lexer": "ipython3",
   "version": "3.5.4"
  }
 },
 "nbformat": 4,
 "nbformat_minor": 2
}

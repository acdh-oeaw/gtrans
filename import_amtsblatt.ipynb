{
 "cells": [
  {
   "cell_type": "code",
   "execution_count": null,
   "metadata": {},
   "outputs": [],
   "source": [
    "import pandas as pd\n",
    "from archiv.utils import create_bestand"
   ]
  },
  {
   "cell_type": "code",
   "execution_count": null,
   "metadata": {},
   "outputs": [],
   "source": [
    "file = 'legacy_data/Amtsblatt_1920.xlsx'\n",
    "res_type_scheme, _ = SkosConceptScheme.objects.get_or_create(dc_title='res_type')"
   ]
  },
  {
   "cell_type": "code",
   "execution_count": null,
   "metadata": {},
   "outputs": [],
   "source": [
    "df = pd.read_excel(file).fillna('False')"
   ]
  },
  {
   "cell_type": "code",
   "execution_count": null,
   "metadata": {},
   "outputs": [],
   "source": [
    "df"
   ]
  },
  {
   "cell_type": "code",
   "execution_count": null,
   "metadata": {},
   "outputs": [],
   "source": [
    "for i, row in df.iterrows():\n",
    "    signatur = \"|\".join(\n",
    "        [\n",
    "            str(row.get('(Archiv)Signatur', default = \"Signatur\")),\n",
    "            str(row.get('Amtsblatt Nr. u. Datum', default = \"Nr. und Datum\")), \n",
    "            str(row.get('Punkt; Seite', default='Punkt; Seite')), \n",
    "        ]\n",
    "    )\n",
    "    if row['Teil von Bestand']:\n",
    "        bestand = create_bestand(row['Teil von Bestand'])[-1]\n",
    "        item, _ = ArchResource.objects.get_or_create(\n",
    "            signature=signatur\n",
    "        )\n",
    "        item.location = bestand\n",
    "        if row['Titel'] != 'False':\n",
    "            item.title = row['Titel']\n",
    "        if row['Zusammenfassung'] != 'False':\n",
    "            item.abstract = row['Zusammenfassung']\n",
    "        if row['Kommentar'] != 'False':\n",
    "            item.notes = row['Kommentar']\n",
    "#         if row['Datum original'] != 'False':\n",
    "#             item.written_date = row['Datum original'].replace('00:00:00', '')\n",
    "        if row['Datum normalisiert DD/MM/YYYY)'] != 'False':\n",
    "            try:\n",
    "                item.not_before = pd.to_datetime(row['Datum normalisiert DD/MM/YYYY)'])\n",
    "            except Exception as e:\n",
    "                print(e)\n",
    "        if row['Typ'] != 'False':\n",
    "            type_vocab, _ = SkosConcept.objects.get_or_create(\n",
    "                pref_label=\"{}\".format(row['Typ'])\n",
    "            )\n",
    "            type_vocab.scheme.add(res_type_scheme)\n",
    "            item.res_type = type_vocab\n",
    "        if row['Orte'] != 'False':\n",
    "            for x in row['Orte'].split(';'):\n",
    "                try:\n",
    "                    pl = Place.objects.get(name=x.strip())\n",
    "                except Exception as e:\n",
    "                    pl = None\n",
    "                    print(e, x.strip())\n",
    "                if pl:\n",
    "                    item.mentioned_place.add(pl)\n",
    "        if row['Institutionen'] != 'False':\n",
    "            for x in row['Institutionen'].split(';'):\n",
    "                try:\n",
    "                    pl = Institution.objects.get(written_name=x.strip())\n",
    "                except Exception as e:\n",
    "                    pl = None\n",
    "                    print(e, x.strip())\n",
    "                if pl:\n",
    "                    item.mentioned_inst.add(pl)\n",
    "        if row['Personen'] != 'False':\n",
    "            for x in row['Personen'].split(';'):\n",
    "                try:\n",
    "                    pl = Person.objects.get(written_name=x.strip())\n",
    "                except Exception as e:\n",
    "                    pl = None\n",
    "                    print(e, x.strip())\n",
    "                if pl:\n",
    "                    item.mentioned_person.add(pl)\n",
    "        item.save()"
   ]
  },
  {
   "cell_type": "code",
   "execution_count": null,
   "metadata": {},
   "outputs": [],
   "source": [
    "# Person.objects.all().delete()"
   ]
  },
  {
   "cell_type": "code",
   "execution_count": null,
   "metadata": {},
   "outputs": [],
   "source": [
    "# ArchResource.objects.all().delete()"
   ]
  },
  {
   "cell_type": "code",
   "execution_count": null,
   "metadata": {},
   "outputs": [],
   "source": []
  }
 ],
 "metadata": {
  "kernelspec": {
   "display_name": "Django Shell-Plus",
   "language": "python",
   "name": "django_extensions"
  },
  "language_info": {
   "codemirror_mode": {
    "name": "ipython",
    "version": 3
   },
   "file_extension": ".py",
   "mimetype": "text/x-python",
   "name": "python",
   "nbconvert_exporter": "python",
   "pygments_lexer": "ipython3",
   "version": "3.5.4"
  }
 },
 "nbformat": 4,
 "nbformat_minor": 2
}
